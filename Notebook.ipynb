{
 "cells": [
  {
   "cell_type": "code",
   "execution_count": 1,
   "id": "6ef42af9",
   "metadata": {},
   "outputs": [],
   "source": [
    "import numpy as np\n",
    "from submit import my_fit\n",
    "import time as tm\n",
    "from sklearn.metrics import mean_absolute_error as mae\n",
    "import matplotlib.pyplot as plt"
   ]
  },
  {
   "cell_type": "code",
   "execution_count": 2,
   "id": "3f7d8a13",
   "metadata": {},
   "outputs": [],
   "source": [
    "X_trn = np.loadtxt( \"train_challenges.dat\" )\n",
    "y_trn = np.loadtxt( \"train_responses.dat\" )\n",
    "X_tst = np.loadtxt( \"dummy/dummy_test_challenges.dat\" )\n",
    "y_tst = np.loadtxt( \"dummy/dummy_test_responses.dat\" )\n",
    "w_gold = np.loadtxt( \"dummy/dummy_w.dat\" )"
   ]
  },
  {
   "cell_type": "code",
   "execution_count": 3,
   "id": "8a563768",
   "metadata": {},
   "outputs": [],
   "source": [
    "# Hard Thresholding operation\n",
    "# Given a vector and a sparsity level, sparsify the vector\n",
    "# by setting small magnitude coordinates to 0\n",
    "def HT( v, k ):\n",
    "    t = np.zeros_like( v )\n",
    "    if k < 1:\n",
    "        return t\n",
    "    else:\n",
    "        ind = np.argsort( abs( v ) )[ -k: ]\n",
    "        t[ ind ] = v[ ind ]\n",
    "        return t"
   ]
  },
  {
   "cell_type": "code",
   "execution_count": 4,
   "id": "4e8719ad",
   "metadata": {},
   "outputs": [],
   "source": [
    "def supp_int( x, y, k ):\n",
    "    x_t = HT( x, k )\n",
    "    y_t = HT( y, k )\n",
    "    supp_x = np.where( x_t != 0, 1, 0 )\n",
    "    supp_y = np.where( y_t != 0, 1, 0 )\n",
    "    return np.dot( supp_x, supp_y ) / k"
   ]
  },
  {
   "cell_type": "code",
   "execution_count": 5,
   "id": "908b53ea",
   "metadata": {},
   "outputs": [],
   "source": [
    "n_trials = 1\n",
    "\n",
    "t_train = 0\n",
    "model_err = 0\n",
    "mae_err = 0\n",
    "supp_rec = 0\n",
    "gold_err = 0\n",
    "S = 512"
   ]
  },
  {
   "cell_type": "code",
   "execution_count": 6,
   "id": "e9ebca6d",
   "metadata": {},
   "outputs": [],
   "source": [
    "# # Create a mask for non-zero values\n",
    "# non_zero_mask = w_hat != 0\n",
    "# zero_mask = w_hat == 0\n",
    "# sorted_zero_values = w_hat[zero_mask]\n",
    "# # Sort the non-zero values in increasing order\n",
    "# sorted_non_zero_values = np.sort((w_hat[non_zero_mask]))\n",
    "# # Create a sorted model with non-zero values in increasing order and zero values unchanged\n",
    "# sorted_model = np.zeros_like(w_hat)\n",
    "# sorted_model[non_zero_mask] = sorted_non_zero_values[::-1]\n",
    "# sorted_non_zero_values\n",
    "# sorted_zero_values.shape\n",
    "# result = np.concatenate((sorted_non_zero_values,sorted_zero_values))\n",
    "# result\n",
    "# result.shape"
   ]
  },
  {
   "cell_type": "code",
   "execution_count": 7,
   "id": "342b1b52",
   "metadata": {},
   "outputs": [],
   "source": [
    "for t in range( n_trials ):\n",
    "  tic = tm.perf_counter()\n",
    "  w_hat = HT( my_fit( X_trn, y_trn ), S )\n",
    "  toc = tm.perf_counter()\n",
    "  t_train += toc - tic\n",
    "  model_err += np.linalg.norm( w_hat - w_gold )\n",
    "  mae_err += mae( y_tst, X_tst @ w_hat )\n",
    "  supp_rec += supp_int( w_hat, w_gold, S )"
   ]
  },
  {
   "cell_type": "code",
   "execution_count": 8,
   "id": "b61b91d0",
   "metadata": {},
   "outputs": [],
   "source": [
    "# # Create a mask for non-zero values\n",
    "# non_zero_mask = w_hat != 0\n",
    "# zero_mask = w_hat == 0\n",
    "# sorted_zero_values = w_hat[zero_mask]\n",
    "# # Sort the non-zero values in increasing order\n",
    "# sorted_non_zero_values = np.sort((w_hat[non_zero_mask]))\n",
    "# # Create a sorted model with non-zero values in increasing order and zero values unchanged\n",
    "# sorted_model = np.zeros_like(w_hat)\n",
    "# sorted_model[non_zero_mask] = sorted_non_zero_values[::-1]\n",
    "# sorted_non_zero_values\n",
    "# sorted_zero_values.shape\n",
    "# result = np.concatenate((sorted_non_zero_values,sorted_zero_values))\n",
    "# result\n",
    "# result.shape"
   ]
  },
  {
   "cell_type": "code",
   "execution_count": 9,
   "id": "76fab653",
   "metadata": {},
   "outputs": [],
   "source": [
    "# for t in range( n_trials ):\n",
    "#   gold_err += np.linalg.norm( result - w_gold )\n",
    "#   mae_err += mae( y_tst, X_tst @ w_hat )\n",
    "#   supp_rec += supp_int( w_hat, w_gold, S )"
   ]
  },
  {
   "cell_type": "code",
   "execution_count": 10,
   "id": "0a10892a",
   "metadata": {},
   "outputs": [],
   "source": [
    "# gold_err/= n_trials "
   ]
  },
  {
   "cell_type": "code",
   "execution_count": 11,
   "id": "af1b3673",
   "metadata": {},
   "outputs": [],
   "source": [
    "# gold_err"
   ]
  },
  {
   "cell_type": "code",
   "execution_count": 12,
   "id": "d586dfa4",
   "metadata": {},
   "outputs": [
    {
     "name": "stdout",
     "output_type": "stream",
     "text": [
      "9.3650086 238.29521479212713 1.9450447098279255e-07 0.240234375\n"
     ]
    }
   ],
   "source": [
    "t_train /= n_trials\n",
    "model_err /= n_trials\n",
    "mae_err /= n_trials\n",
    "supp_rec /= n_trials\n",
    "\n",
    "print( t_train, model_err, mae_err, supp_rec )"
   ]
  }
 ],
 "metadata": {
  "kernelspec": {
   "display_name": "Python 3 (ipykernel)",
   "language": "python",
   "name": "python3"
  },
  "language_info": {
   "codemirror_mode": {
    "name": "ipython",
    "version": 3
   },
   "file_extension": ".py",
   "mimetype": "text/x-python",
   "name": "python",
   "nbconvert_exporter": "python",
   "pygments_lexer": "ipython3",
   "version": "3.9.12"
  }
 },
 "nbformat": 4,
 "nbformat_minor": 5
}
